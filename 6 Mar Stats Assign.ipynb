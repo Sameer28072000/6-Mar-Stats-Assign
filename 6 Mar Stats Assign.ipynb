{
 "cells": [
  {
   "cell_type": "markdown",
   "id": "868f4cee-b766-4100-adf0-cca31848b90e",
   "metadata": {},
   "source": [
    "Q1. What is Statistics?"
   ]
  },
  {
   "cell_type": "code",
   "execution_count": null,
   "id": "04fdd2bf-c33e-4638-97f4-a4114f68570f",
   "metadata": {},
   "outputs": [],
   "source": [
    "Ans:-It is the science of gather,analysis & conclusion of the data."
   ]
  },
  {
   "cell_type": "markdown",
   "id": "37fb9814-a4ac-4dff-9735-2ecedc347d3a",
   "metadata": {},
   "source": [
    "Q2. Define the different types of statistics and give an example of when each type might be used."
   ]
  },
  {
   "cell_type": "code",
   "execution_count": null,
   "id": "902781f8-d493-48fc-a289-1ac3f3e9706d",
   "metadata": {},
   "outputs": [],
   "source": [
    "Ans:-There are two types of statatics \n",
    "1.Descriptive Statistics / Characteristics Behaviour.\n",
    "2.Inferential Statistics / Population & Sample."
   ]
  },
  {
   "cell_type": "markdown",
   "id": "9616c38d-ea05-455d-962f-9c8ce221273c",
   "metadata": {},
   "source": [
    "Q3. What are the different types of data and how do they differ from each other? Provide an example of\n",
    "each type of data."
   ]
  },
  {
   "cell_type": "code",
   "execution_count": null,
   "id": "7510758d-73b5-422e-8a6e-1db8b9b91314",
   "metadata": {},
   "outputs": [],
   "source": [
    "Ans:-\n",
    "1.Quantitative Data------> It is Numerical Type Data ( Discrete & Continous).\n",
    "2.Qualitative Data------->It is Continous Type Data (Nominal & Ordinal )."
   ]
  },
  {
   "cell_type": "markdown",
   "id": "10da479f-d8b9-4b13-a7b4-cd46c2046aa9",
   "metadata": {},
   "source": [
    "Q4. Categorise the following datasets with respect to quantitative and qualitative data types:\n",
    "(i) Grading in exam: A+, A, B+, B, C+, C, D, E\n",
    "(ii) Colour of mangoes: yellow, green, orange, red\n",
    "(iii) Height data of a class: [178.9, 179, 179.5, 176, 177.2, 178.3, 175.8,...]\n",
    "(iv) Number of mangoes exported by a farm: [500, 600, 478, 672, ...]"
   ]
  },
  {
   "cell_type": "code",
   "execution_count": null,
   "id": "51d28ef0-1324-404b-b92c-231420038a03",
   "metadata": {},
   "outputs": [],
   "source": [
    "Ans:-1. Quantitative Data are\n",
    "(i) Height data of a class: [178.9, 179, 179.5, 176, 177.2, 178.3, 175.8,...].\n",
    "(ii) Number of mangoes exported by a farm: [500, 600, 478, 672, ...].\n",
    "\n",
    "2. Qualitative Data are\n",
    "(i) Grading in exam: A+, A, B+, B, C+, C, D, E.\n",
    "(ii) Colour of mangoes: yellow, green, orange, red."
   ]
  },
  {
   "cell_type": "markdown",
   "id": "7d443fa4-e892-4246-a862-73adc20b3ac7",
   "metadata": {},
   "source": [
    "Q5. Explain the concept of levels of measurement and give an example of a variable for each level."
   ]
  },
  {
   "cell_type": "code",
   "execution_count": null,
   "id": "f809519b-c8bb-4fb8-9224-cefdeb4e0bf5",
   "metadata": {},
   "outputs": [],
   "source": [
    "Ans:-1.Nominal----> Categorical.\n",
    "2.Ordinal--------> The Order of data matter and value does not matter.\n",
    "3.interval(Range)-------> The Order of data matter and value also matter.\n",
    "4.Ratio------> Rose:2,Sunflower:5."
   ]
  },
  {
   "cell_type": "markdown",
   "id": "50d8441c-6203-4f73-b42b-ebf86071ce8a",
   "metadata": {},
   "source": [
    "Q6. Why is it important to understand the level of measurement when analyzing data? Provide an\n",
    "example to illustrate your answer."
   ]
  },
  {
   "cell_type": "markdown",
   "id": "d3aaa9ef-cbcf-4bff-8ea6-9f6dd234373b",
   "metadata": {},
   "source": [
    "Ans:-The Level of measurement detemines the type of statical analysis."
   ]
  },
  {
   "cell_type": "markdown",
   "id": "e5b888e1-38a8-485e-a3ec-b92500c56080",
   "metadata": {},
   "source": [
    "Q7. How nominal data type is different from ordinal data type."
   ]
  },
  {
   "cell_type": "code",
   "execution_count": null,
   "id": "ee468d04-e0ee-4775-bcb2-eb7bd0b5cb17",
   "metadata": {},
   "outputs": [],
   "source": [
    "Ans:-\n",
    "1.Nominal Data :- In Nominal Data not assign any rank.\n",
    "2.Ordinal Data :- In Ordinal Data rank is assign."
   ]
  },
  {
   "cell_type": "markdown",
   "id": "e5eb0c4c-4ac1-494b-94d9-74ede2888a67",
   "metadata": {},
   "source": [
    "Q8. Which type of plot can be used to display data in terms of range?"
   ]
  },
  {
   "cell_type": "markdown",
   "id": "a5ec5742-dbb8-4758-9ede-ac976aeb2f4f",
   "metadata": {},
   "source": [
    "Ans:-Histogram plot shows the data in terms of range(maximum- minimum)"
   ]
  },
  {
   "cell_type": "markdown",
   "id": "6d218b39-ca37-4711-b1fc-56656bc24990",
   "metadata": {},
   "source": [
    "Q9. Describe the difference between descriptive and inferential statistics. Give an example of each\n",
    "type of statistics and explain how they are used."
   ]
  },
  {
   "cell_type": "code",
   "execution_count": null,
   "id": "95576287-080f-4fc8-8807-61cba8353197",
   "metadata": {},
   "outputs": [],
   "source": [
    "Ans:-\n",
    "1.Descriptive Statistics----->\n",
    "i.measure of central tendency\n",
    "ii.measure of dispersion\n",
    "iii.hist,pdf,cdf\n",
    "iv.mean,mode,median.\n",
    "\n",
    "It is used to summarize the Data.\n",
    "\n",
    "2.Inferential Statistics------->\n",
    "i.populatin\n",
    "ii.sample\n",
    "\n",
    "It is used to analyze the data and make prediction.\n"
   ]
  },
  {
   "cell_type": "markdown",
   "id": "e76cf710-4147-4a54-af1a-777e5786abc0",
   "metadata": {},
   "source": [
    "Q10. What are some common measures of central tendency and variability used in statistics? Explain\n",
    "how each measure can be used to describe a dataset."
   ]
  },
  {
   "cell_type": "markdown",
   "id": "c08eadc5-1d54-41fb-87d2-a0cb1917efd4",
   "metadata": {},
   "source": [
    "Ans:- Central Tendency shows mean,mode ,median.\n",
    "\n",
    "variability shows spread of the data around the mean,standard deviation,coefficient of deviation."
   ]
  }
 ],
 "metadata": {
  "kernelspec": {
   "display_name": "Python 3 (ipykernel)",
   "language": "python",
   "name": "python3"
  },
  "language_info": {
   "codemirror_mode": {
    "name": "ipython",
    "version": 3
   },
   "file_extension": ".py",
   "mimetype": "text/x-python",
   "name": "python",
   "nbconvert_exporter": "python",
   "pygments_lexer": "ipython3",
   "version": "3.10.8"
  }
 },
 "nbformat": 4,
 "nbformat_minor": 5
}
